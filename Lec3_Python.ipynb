{
 "cells": [
  {
   "cell_type": "code",
   "execution_count": 11,
   "id": "3fbb4ff1",
   "metadata": {},
   "outputs": [],
   "source": [
    "# Binary Search - O(log n) (base 2) - List needs to be sorted?"
   ]
  },
  {
   "cell_type": "code",
   "execution_count": 8,
   "id": "595d06ea",
   "metadata": {},
   "outputs": [],
   "source": [
    "List =[3,5,9,14,39,40,50]\n",
    "left=0\n",
    "right=len(List)-1\n",
    "# first iteration\n",
    "mid= (left + right)//2"
   ]
  },
  {
   "cell_type": "code",
   "execution_count": 10,
   "id": "461c8d9a",
   "metadata": {},
   "outputs": [
    {
     "data": {
      "text/plain": [
       "3"
      ]
     },
     "execution_count": 10,
     "metadata": {},
     "output_type": "execute_result"
    }
   ],
   "source": [
    "mid\n",
    "## we go untill size of our list is 1"
   ]
  },
  {
   "cell_type": "code",
   "execution_count": null,
   "id": "537a4763",
   "metadata": {},
   "outputs": [],
   "source": [
    "# Running time of Binary Search\n",
    "# size of our list is n\n",
    "# After First iteration, the size of the list <= n/2\n",
    "# After Second iteration, the size of the list <= n/4\n",
    "# After last iteration, the size of the list <= (n/2^k) = 1\n",
    "\n",
    "# (n/2^k) = 1 => so log n = log 2^k (base 2) => k = log n base 2\n",
    "\n",
    "# Simple Search = o(n) and Binary Search O(log n) base 2\n",
    "# O(log n)  graph is faster than simple search (sorted list)\n",
    "# For searching binary search is better\n",
    "\n",
    "\n",
    "# f(n) = c + f(n/2)\n",
    "# f(n/2) = c + f(n/4)\n",
    "# f(n) = 2c + f(n/4)\n",
    "# f(n) = k*c + f(n/2^k)\n"
   ]
  },
  {
   "cell_type": "code",
   "execution_count": 12,
   "id": "12b44fc1",
   "metadata": {},
   "outputs": [],
   "source": [
    "# if data is not sorted\n",
    "input = [12,2,20,4,1,21,26]\n",
    "output = [1,2,4,12,20,21]\n",
    "\n",
    "# so we need to sort the data in order to use binary search"
   ]
  },
  {
   "cell_type": "code",
   "execution_count": null,
   "id": "78afb2c9",
   "metadata": {},
   "outputs": [],
   "source": [
    "# Sorting ALgo\n",
    "# 1. Bubble  Sort\n",
    "# 2. Insertion Sort\n",
    "# 3. Merge Sort\n",
    "# 4. Heap Sort\n",
    "# 5. Quick Sort\n",
    "\n"
   ]
  },
  {
   "cell_type": "code",
   "execution_count": null,
   "id": "ff6bc9e7",
   "metadata": {},
   "outputs": [],
   "source": [
    "# insertion sort - we claim that first element is sorted\n",
    "# [2,7,4,1,3,6,5,0]\n",
    "#[ 2,--]\n",
    "# [2,7--]\n",
    "# [2,4,7,--]\n",
    "# [1, 2,4,7,--]"
   ]
  },
  {
   "cell_type": "code",
   "execution_count": 14,
   "id": "bac79106",
   "metadata": {},
   "outputs": [
    {
     "ename": "SyntaxError",
     "evalue": "invalid syntax (435327808.py, line 3)",
     "output_type": "error",
     "traceback": [
      "\u001b[0;36m  File \u001b[0;32m\"/var/folders/xn/gx20cv813nxgp786mtcl5yc80000gn/T/ipykernel_32100/435327808.py\"\u001b[0;36m, line \u001b[0;32m3\u001b[0m\n\u001b[0;31m    for i=(j-1) to 1:\u001b[0m\n\u001b[0m         ^\u001b[0m\n\u001b[0;31mSyntaxError\u001b[0m\u001b[0;31m:\u001b[0m invalid syntax\n"
     ]
    }
   ],
   "source": [
    "# A = [A[1], A[2], ..., A[n]]\n",
    "# insert(A, j)\n",
    "for i=(j-1) to 1:\n",
    "    if A[i]>A[i+1]:\n",
    "        swap(A[i],A[i+1])\n",
    "    else:\n",
    "        break\n",
    "        sublist of size n/2\n",
    "for j=1 to size[A]:\n",
    "    insert(A,j)\n"
   ]
  },
  {
   "cell_type": "code",
   "execution_count": 15,
   "id": "b7e9c335",
   "metadata": {},
   "outputs": [],
   "source": [
    "# To insert the last element we need at most (n -1) comparisons and (n - 1 ) swaps\n",
    "# for second element (n - 2 ) comparisons and (n -2 ) swaps\n",
    "\n",
    "# 2(1 + 2+ 3 + ....+ (n-2) + (n-1))\n",
    "# sum of n terms = n*(n+1)/2 \n",
    "# SO, O(n(n+1)) = O(n^2 + n) = O(n^2)\n",
    "\n",
    "# Best case = O(n)"
   ]
  },
  {
   "cell_type": "code",
   "execution_count": 17,
   "id": "1b4e74cc",
   "metadata": {},
   "outputs": [],
   "source": [
    "# Merge Sort\n",
    "\n",
    "# The size of the list is n\n",
    "# splits a list in half sublist of size n/2\n",
    "# sort the sublists\n",
    "# Merge is performed [merging is the process of taking smaller sorted lists and combining them together into a \n",
    "# single sorted list]\n",
    "\n",
    "# Ex = [54,26,93,17,77,31,44,55 20]\n",
    "# [54,26,93,17] and [77,31,44,|| 55,20]\n",
    "# [54,26][93,17][77,31][44][55, 20]\n",
    "# [26,54][17,93][31,77][44][20,55]\n",
    "# [17,26,54,93][31,77][20,44,55]\n",
    "# [17,26,54,93][20,44,55,31,77]\n",
    "# [17,20,26,31,44,54,55,77,93]\n",
    "\n",
    "def mergesort(List,l,r):\n",
    "    if(l>=r):       # base case\n",
    "        return\n",
    "    elif((l+1)==r):\n",
    "        if List[l]>List[r]:\n",
    "            swap(List[l],List[r])\n",
    "    else:\n",
    "        mid = (l+r)//2\n",
    "        mergesort(List,l, mid)\n",
    "        mergesort(List,mid+1,r)\n",
    "        merge(List,l,mid,r)"
   ]
  }
 ],
 "metadata": {
  "kernelspec": {
   "display_name": "Python 3 (ipykernel)",
   "language": "python",
   "name": "python3"
  },
  "language_info": {
   "codemirror_mode": {
    "name": "ipython",
    "version": 3
   },
   "file_extension": ".py",
   "mimetype": "text/x-python",
   "name": "python",
   "nbconvert_exporter": "python",
   "pygments_lexer": "ipython3",
   "version": "3.9.7"
  }
 },
 "nbformat": 4,
 "nbformat_minor": 5
}
